{
 "cells": [
  {
   "cell_type": "code",
   "execution_count": 53,
   "metadata": {},
   "outputs": [
    {
     "name": "stdout",
     "output_type": "stream",
     "text": [
      "[['2750' 'Nissin' 'Cup Noodles Tom Yum Goong Flavour Potato Chips' ...\n",
      "  'Hong Kong' '5' '']\n",
      " ['2749' 'Maruchan' 'Bariuma Goboten Udon' ... 'Japan' '0' '']\n",
      " ['2740' 'Meimen' 'Hot & Sour Noodles Soup' ... 'Taiwan' '3.75' '']\n",
      " ...\n",
      " ['1753' 'Thai Smile' 'Garlic Rice Noodle Soup Bowl' ... 'United States'\n",
      "  '3.5' '']\n",
      " ['1752' 'Kuriki' 'Mayo Ramen' ... 'Japan' '4.75' '']\n",
      " ['1751' \"Mom's Dry Noodle\" 'Spicy & Sour Flavor' ... 'Taiwan' '5' '']]\n"
     ]
    }
   ],
   "source": [
    "import numpy as np\n",
    "data = np.genfromtxt(\"ramen-ratings.csv\", dtype = 'U75', encoding = 'utf-8', skip_header = 1, delimiter = \",\")\n",
    "ramen_ratings = np.array(data)\n",
    "print(ramen_ratings)"
   ]
  },
  {
   "cell_type": "code",
   "execution_count": 54,
   "metadata": {
    "scrolled": true
   },
   "outputs": [
    {
     "name": "stdout",
     "output_type": "stream",
     "text": [
      "['2750' 'Nissin' 'Cup Noodles Tom Yum Goong Flavour Potato Chips' 'Pack'\n",
      " 'Hong Kong' '5' '']\n"
     ]
    }
   ],
   "source": [
    "print(ramen_ratings[0])"
   ]
  },
  {
   "cell_type": "code",
   "execution_count": 55,
   "metadata": {
    "collapsed": true
   },
   "outputs": [
    {
     "name": "stdout",
     "output_type": "stream",
     "text": [
      "[['2750' 'Nissin' 'Cup Noodles Tom Yum Goong Flavour Potato Chips' ...\n",
      "  'Hong Kong' '5' '']\n",
      " ['1750' 'Mi Sedaap' 'Instant Cup Mi Kuah Rasa Soto' ... 'Indonesia' '5'\n",
      "  '']\n",
      " ['1749' 'Yum Yum' 'Jumbo Instant Noodles Tom Yum Kung Creamy Flavour'\n",
      "  ... 'Thailand' '5' '']\n",
      " ...\n",
      " ['2651' 'Alhami' 'Mi Goreng Spesial' ... 'Indonesia' '5' '']\n",
      " ['1754' 'Paldo' 'King Bowl Super Spicy Pan Stirfried Noodle' ...\n",
      "  'South Korea' '5' '']\n",
      " ['1751' \"Mom's Dry Noodle\" 'Spicy & Sour Flavor' ... 'Taiwan' '5' '']]\n",
      "[['2749' 'Maruchan' 'Bariuma Goboten Udon' ... 'Japan' '0' '']\n",
      " ['1746' 'Marutai' 'Ramen Shoyu Taste' ... 'Japan' '4.25' '']\n",
      " ['1739' 'Nissin' 'Raoh Tanrei Koku Shio Ramen' ... 'Japan' '4.5' '']\n",
      " ...\n",
      " ['1763' 'Ishimaru' 'Tuna Flavor Ramen' ... 'Japan' '4.5' '']\n",
      " ['1760' 'New Touch' 'Homestyle Tonjiru' ... 'Japan' '4.5' '']\n",
      " ['1752' 'Kuriki' 'Mayo Ramen' ... 'Japan' '4.75' '']]\n"
     ]
    }
   ],
   "source": [
    "rating_5 = ramen_ratings[is_rating_5,:]\n",
    "country_japan = ramen_ratings[is_country_japan,:]\n",
    "print(rating_5)\n",
    "print(country_japan)"
   ]
  },
  {
   "cell_type": "code",
   "execution_count": 56,
   "metadata": {
    "collapsed": true
   },
   "outputs": [
    {
     "name": "stdout",
     "output_type": "stream",
     "text": [
      "[['1570' 'Maruchan' 'Big Cup Ramen Corn Salt & Butter Flavor' 'Bowl'\n",
      "  'Japan' '5' '']\n",
      " ['1521' 'Maruchan' 'Gotsumori Sauce Yakisoba' 'Tray' 'Japan' '5' '\"2015']\n",
      " ['2627' 'Nissin' 'Men Shokunin Sesame Miso Ramen' 'Bowl' 'Japan' '5' '']\n",
      " ['1381' 'Takamori Kosan' 'Curry Udon' 'Pack' 'Japan' '5' '']\n",
      " ['2613' 'Nissin' 'Raoh Backfat Rich Shoyu Ramen' 'Bowl' 'Japan' '5' '']\n",
      " ['1378' 'Takamori Kosan' 'Yakisoba' 'Pack' 'Japan' '5' '']\n",
      " ['1330' 'Sapporo Ichiban' 'Otafuku Okonomi Sauce Yakisoba' 'Tray'\n",
      "  'Japan' '5' '\"2014']\n",
      " ['1287' 'Kimura' 'Kumamoto Tonkotsu Ramen' 'Pack' 'Japan' '5' '']\n",
      " ['2600' 'Nissin' 'Cup Noodle Nice Rich Pork Shoyu' 'Cup' 'Japan' '5' '']\n",
      " ['1238' 'Sapporo Ichiban' 'Sesame Ramen' 'Pack' 'Japan' '5' '']\n",
      " ['1207' 'Nissin' 'UFO Yakisoba With Wasabi Mayonnaise' 'Bowl' 'Japan'\n",
      "  '5' '']\n",
      " ['1189' 'Acecook' 'Comet Mori Yukino Tan-tan men' 'Bowl' 'Japan' '5' '']\n",
      " ['2592' 'Maruchan' 'Yokozuna Tonkotsu Ramen' 'Bowl' 'Japan' '5' '']\n",
      " ['1159' 'Peyang' 'Yakisoba' 'Tray' 'Japan' '5' '']\n",
      " ['1136' 'Nissin' 'Yakisoba' 'Pack' 'Japan' '5' '']\n",
      " ['1116' 'Tokyo Noodle' 'Mini Instant Noodles Artificial Chicken Flavor'\n",
      "  'Pack' 'Japan' '5' '']\n",
      " ['1103' 'Myojo' 'Ippei-chan Yomise No Yakisoba Teriyaki Mayo Flavor'\n",
      "  'Tray' 'Japan' '5' '']\n",
      " ['2583' 'Daikoku' 'Kaisen (seafood) Shio Noodles' 'Cup' 'Japan' '5' '']\n",
      " ['1069' 'Nissin' 'Raoh Rich Miso Flavor' 'Bowl' 'Japan' '5' '']\n",
      " ['964' 'Nissin' 'Raoh Backfat Rich Soy Sauce Flavor' 'Bowl' 'Japan' '5'\n",
      "  '']\n",
      " ['956' 'Sakurai Foods' 'Sesame Noodles' 'Pack' 'Japan' '5' '']\n",
      " ['700' 'Nissin' 'Chikin Ramen (Local)' 'Pack' 'Japan' '5' '']\n",
      " ['652' 'Sapporo Ichiban' 'Shio' 'Pack' 'Japan' '5' '']\n",
      " ['639' 'Nissin' 'Gozen Kitsune Udon' 'Bowl' 'Japan' '5' '']\n",
      " ['2522' 'Takamori' 'Hearty Japanese Style Curry Udon' 'Pack' 'Japan' '5'\n",
      "  '']\n",
      " ['460' 'Menraku' 'Tempura Udon' 'Bowl' 'Japan' '5' '']\n",
      " ['392' 'Nissin' 'Yakisoba Noodles Karashi' 'Tray' 'Japan' '5' '\"2012']\n",
      " ['147' 'Higashi' 'Nagasaki Sara Udon' 'Pack' 'Japan' '5' '']\n",
      " ['124' 'Nissin' 'Yakisoba With Mayonnaise/Mustard Packet' 'Tray' 'Japan'\n",
      "  '5' '']\n",
      " ['28' 'Nissin' 'Chikin Ramen' 'Pack' 'Japan' '5' '']\n",
      " ['13' 'Sapporo Ichiban' 'Chow Mein' 'Pack' 'Japan' '5' '\"2012']\n",
      " ['2441' 'MyKuali' 'Penang Hokkien Prawn Flavor Noodle' 'Box' 'Japan' '5'\n",
      "  '']\n",
      " ['2419' 'MyKuali' 'Penang Red Tom Yum Goong' 'Box' 'Japan' '5' '']\n",
      " ['2415' 'Nissin' 'Kitsune Udon Donbei (West)' 'Bowl' 'Japan' '5' '']\n",
      " ['2710' 'Itsuki' '\"Kyushu \"\"Tonkotsu\"\" Pork Flavor Ramen\"' 'Pack'\n",
      "  'Japan' '5' '']\n",
      " ['2323' 'Ogasawara' 'Kirin Giraffe Shio Ramen' 'Pack' 'Japan' '5' '']\n",
      " ['2316' 'Nissin' 'Cup Noodle Spicy Curry Chicken' 'Cup' 'Japan' '5' '']\n",
      " ['2302' 'Nissin' 'Yakisoba' 'Tray' 'Japan' '5' '']\n",
      " ['2255' 'Daikoku' 'Hiroshima Flavor Yakisoba' 'Tray' 'Japan' '5' '']\n",
      " ['2252' 'New Touch' 'Sugomen Sano Ramen' 'Bowl' 'Japan' '5' '']\n",
      " ['2745' 'Nissin' 'U. F. O. BIG Wasabi-Mayo Yakisoba' 'Tray' 'Japan' '5'\n",
      "  '']\n",
      " ['2237' 'Nissin' 'Cup Noodle Light+ Bagna Cauda' 'Cup' 'Japan' '5' '']\n",
      " ['2228' 'Nissin' 'Raoh Shoyu Ramen' 'Bowl' 'Japan' '5' '']\n",
      " ['2195' 'Nissin' 'Gyorai Inaniwa Chuka Soba' 'Bowl' 'Japan' '5' '']\n",
      " ['2185' 'Nissin' 'Raoh Hot & Sour Ramen' 'Pack' 'Japan' '5' '']\n",
      " ['2160' 'Menraku' 'Japanese Yakisoba Umami Sauce' 'Bowl' 'Japan' '5' '']\n",
      " ['2744' 'Myojo' 'Charumera Non-Fried Tonkotsu Ramen' 'Pack' 'Japan' '5'\n",
      "  '']\n",
      " ['2141' 'Nissin' 'Men Shokunin Kaoruyasai Shio' 'Bowl' 'Japan' '5' '']\n",
      " ['2133' 'Nissin' 'Kimchi Chikin Ramen Donburi' 'Bowl' 'Japan' '5' '']\n",
      " ['2126' 'Nissin' 'Mennippon Oumi Chanpon' 'Bowl' 'Japan' '5' '']\n",
      " ['2687' 'Nissin' 'Yakisoba With Mayonnaise' 'Tray' 'Japan' '5' '']\n",
      " ['2102' 'Nissin' 'Cup Noodles Singapore Laksa' 'Cup' 'Japan' '5' '']\n",
      " ['2066' 'Marutai' 'Hakata Tonkotsu Ramen' 'Pack' 'Japan' '5' '']\n",
      " ['2060' 'Nissin' 'Cup Noodle Light+ Cheese Fondue' 'Cup' 'Japan' '5' '']\n",
      " ['2055' 'Nissin' 'Tokyo Tokunou Gyokai Tonkotsu' 'Bowl' 'Japan' '5' '']\n",
      " ['2039' 'Tokushima Seifun' 'Yakibuta Ramen' 'Bowl' 'Japan' '5' '']\n",
      " ['2027' 'Nissin' 'Shinshu Miso Ramen' 'Bowl' 'Japan' '5' '']\n",
      " ['2003' 'Nissin' 'Raoh Rich Miso Flavor' 'Bowl' 'Japan' '5' '']\n",
      " ['2000' 'Nissin' 'Chikin Ramen Donburi' 'Bowl' 'Japan' '5' '']\n",
      " ['1999' 'Nissin' 'Curry Udon' 'Cup' 'Japan' '5' '']\n",
      " ['1998' 'Nissin' 'Men Shokunin Shoyu' 'Bowl' 'Japan' '5' '']\n",
      " ['1995' 'Nissin' 'Cup Noodle Big Cheese Mexican Chilli' 'Cup' 'Japan'\n",
      "  '5' '']\n",
      " ['1994' 'Nissin' 'Gyoretsu-no-Dekiru-Mise-no-Ramen (Shrimp Tantanmen)'\n",
      "  'Bowl' 'Japan' '5' '']\n",
      " ['1993' 'Nissin' 'Raoh Tonkotsu' 'Pack' 'Japan' '5' '']\n",
      " ['1990' 'Nissin' 'Cup Noodle' 'Cup' 'Japan' '5' '']\n",
      " ['1943' 'New Touch' 'Sugomen Niigata Seabura Shoyu Ramen' 'Bowl' 'Japan'\n",
      "  '5' '']\n",
      " ['1940' 'Nissin' 'Cup Noodle Pasta Style Bolognese' 'Cup' 'Japan' '5' '']\n",
      " ['1938' 'Nissin' 'Donbei Kamodashi Soba' 'Bowl' 'Japan' '5' '']\n",
      " ['1911' 'Nissin' 'Emergency Chikin Ramen Cup Noodle' 'Cup' 'Japan' '5'\n",
      "  '']\n",
      " ['1895' 'Maruchan' 'Seimen Houjyun Koku Shoyu' 'Bowl' 'Japan' '5' '']\n",
      " ['1893' 'Nissin' 'Cup Noodle Sio' 'Cup' 'Japan' '5' '']\n",
      " ['1872' 'Itsuki' 'Hakata Ossyoi' 'Pack' 'Japan' '5' '']\n",
      " ['1858' 'Myojo' 'Wantan Men' 'Bowl' 'Japan' '5' '']\n",
      " ['1844' 'Seven & I' 'Gold Sumire Ramen' 'Bowl' 'Japan' '5' '']\n",
      " ['1784' 'Torishi' 'Hakata Tonkotsu Ramen' 'Pack' 'Japan' '5' '']\n",
      " ['1768' 'New Touch' 'Negi Miso No Ippin Ramen' 'Bowl' 'Japan' '5' '']]\n"
     ]
    }
   ],
   "source": [
    "is_rating_5_and_j = (ramen_ratings[:,5] == \"5\") & (ramen_ratings[:,4] == \"Japan\")\n",
    "rating_5_and_j = ramen_ratings[is_rating_5_and_j,:]\n",
    "print(rating_5_and_j)"
   ]
  },
  {
   "cell_type": "code",
   "execution_count": 57,
   "metadata": {},
   "outputs": [],
   "source": [
    "def comparison_vector(input_array,string,col):\n",
    "    is_it = input_array[:,col] == string\n",
    "    return is_it\n"
   ]
  },
  {
   "cell_type": "code",
   "execution_count": 58,
   "metadata": {
    "collapsed": true
   },
   "outputs": [
    {
     "name": "stdout",
     "output_type": "stream",
     "text": [
      "[['1735' 'Master Kong' 'Tomato Sauce Instant Noodle' ... 'China' '4' '']\n",
      " ['2647' 'Marutai' 'Nagasaki Chanpon' ... 'Japan' '4' '']\n",
      " ['1717' 'Lee Fah Mee' 'Sarawak White Laksa Instant Noodle' ... 'Sarawak'\n",
      "  '4' '']\n",
      " ...\n",
      " ['1762' \"Mom's Dry Noodle\" 'Sesame & Pepper' ... 'Taiwan' '4' '']\n",
      " ['1759' 'Nissin' 'Cup Noodles Moo Manao Flavour' ... 'Thailand' '4' '']\n",
      " ['1755' 'Mama' 'Oriental Style Instant Noodles Hot & Spicy Flavour' ...\n",
      "  'Bangladesh' '4' '']]\n"
     ]
    }
   ],
   "source": [
    "rating_4 = ramen_ratings[comparison_vector(ramen_ratings,\"4\",5)]\n",
    "print(rating_4)\n"
   ]
  },
  {
   "cell_type": "code",
   "execution_count": 59,
   "metadata": {
    "collapsed": true
   },
   "outputs": [
    {
     "name": "stdout",
     "output_type": "stream",
     "text": [
      "[['2647' 'Marutai' 'Nagasaki Chanpon' 'Bowl' 'Japan' '4' '']\n",
      " ['1631' 'Nissin' 'Donbei Tempura Soba Mini' 'Bowl' 'Japan' '4' '']\n",
      " ['1578' 'Nissin' 'Gonbuto Tempura Udon' 'Bowl' 'Japan' '4' '']\n",
      " ['1482' 'Maruchan' \"I Want To Eat Ramen' Shoyu Flavor\" 'Pack' 'Japan'\n",
      "  '4' '']\n",
      " ['1387' 'Takamori Kosan' 'Red Pepper 7 Garlic Peperoncino' 'Pack'\n",
      "  'Japan' '4' '']\n",
      " ['1379' 'Takamori Kosan' 'Shio Yakisoba' 'Pack' 'Japan' '4' '']\n",
      " ['1375' 'Takamori Kosan' 'Spaghetti Napolitan' 'Pack' 'Japan' '4' '']\n",
      " ['1318' 'Nissin' 'Spa Oh Tarako Spaghetti' 'Bowl' 'Japan' '4' '']\n",
      " ['1247' 'Maruchan' 'I Want To Eat Ramen Pork Tonkotsu Flavor' 'Pack'\n",
      "  'Japan' '4' '']\n",
      " ['2598' 'Myojo' 'Western Style Kisune Udon' 'Bowl' 'Japan' '4' '']\n",
      " ['1174' 'Itomen' 'Crab Flavor Instant Ramen' 'Pack' 'Japan' '4' '']\n",
      " ['1152' 'Sapporo Ichiban' 'Tomato & Basil Shio Ramen' 'Pack' 'Japan' '4'\n",
      "  '']\n",
      " ['1071' 'Nissin' 'Raoh Soy Sauce Taste' 'Pack' 'Japan' '4' '']\n",
      " ['1047' 'New Touch' 'Yakisoba Noodle' 'Tray' 'Japan' '4' '']\n",
      " ['2574' 'Acecook' 'Spice Deli Tantan Men With Cilantro' 'Cup' 'Japan'\n",
      "  '4' '']\n",
      " ['976' 'Nissin' 'Donbei Tensoba' 'Bowl' 'Japan' '4' '']\n",
      " ['955' 'Sakurai Foods' 'Miso Ramen' 'Bowl' 'Japan' '4' '']\n",
      " ['914' 'Nissin' 'Ramen Shop Sapporo Miso' 'Pack' 'Japan' '4' '']\n",
      " ['819' 'Maruchan' 'Tempura Soba' 'Pack' 'Japan' '4' '']\n",
      " ['669' 'Nissin' 'Gozen Tempura' 'Bowl' 'Japan' '4' '']\n",
      " ['2534' 'Fujiwara' 'Hokkaido Hakodate Shoyu Ramen' 'Pack' 'Japan' '4' '']\n",
      " ['560' 'Myojo' 'Ippeichan Soy Sauce' 'Bowl' 'Japan' '4' '']\n",
      " ['497' 'Nissin' 'Demae Iccho Seafood & Abalone Macaroni' 'Pack' 'Japan'\n",
      "  '4' '']\n",
      " ['452' 'Myojo' 'Hyoubanya No Chukasoba Soy Sauce' 'Pack' 'Japan' '4' '']\n",
      " ['451' 'Myojo' 'Ippeichan Soybean Paste' 'Bowl' 'Japan' '4' '']\n",
      " ['2518' 'Samurai Ramen' 'Umami Ramen' 'Pack' 'Japan' '4' '']\n",
      " ['390' 'Menraku' 'Curry Soba' 'Bowl' 'Japan' '4' '']\n",
      " ['384' 'Nissin' 'Demae Iccho Tom Yam Goong Macaroni' 'Pack' 'Japan' '4'\n",
      "  '']\n",
      " ['340' 'Shirakiku' 'Japanese Style Tokusen Shoyu' 'Pack' 'Japan' '4' '']\n",
      " ['286' 'Myojo' 'Hyoubanya No Yakisoba Oriental' 'Tray' 'Japan' '4' '']\n",
      " ['149' 'Maruchan' 'Akai Kitsune Udon' 'Bowl' 'Japan' '4' '']\n",
      " ['74' 'Nissin' 'Demae Ramen Shoyu' 'Pack' 'Japan' '4' '']\n",
      " ['70' 'Nissin' 'Demae Ramen XO Sauce Seafood' 'Pack' 'Japan' '4' '']\n",
      " ['31' 'Myojo' 'Ippeichan Yakisoba' 'Tray' 'Japan' '4' '\"2013']\n",
      " ['27' 'Nissin' 'Demae Ramen Curry Flavor' 'Pack' 'Japan' '4' '']\n",
      " ['26' 'Nissin' 'Soba Noodles With Mayo Mustard Squirt' 'Pack' 'Japan'\n",
      "  '4' '']\n",
      " ['2429' 'New Touch' \"T's Restaurant Sura Tanmen\" 'Cup' 'Japan' '4' '']\n",
      " ['2320' 'Nissin' 'Nupasta Bolognese Flavour Instant Noodle' 'Cup'\n",
      "  'Japan' '4' '']\n",
      " ['2261' 'Tablemark' 'Tohokuno Aji Yonezawa Ramen' 'Bowl' 'Japan' '4' '']\n",
      " ['2230' 'Marutai' 'Kuroma-Yu Tonkotsu Kumamoto Ramen' 'Pack' 'Japan' '4'\n",
      "  '']\n",
      " ['2128' 'Sapporo Ichiban' 'Taimeiken Yousyoku Yasangatsukutta Omumen'\n",
      "  'Cup' 'Japan' '4' '']\n",
      " ['1996' 'Nissin' 'Cup Noodle Pasta Style Tarako Spaghetti' 'Cup' 'Japan'\n",
      "  '4' '']\n",
      " ['1983' 'Tokushima Seifun' 'Tokushima Ramen' 'Pack' 'Japan' '4' '']\n",
      " ['1959' 'Myojo' 'Charumera Shoyu Ramen' 'Pack' 'Japan' '4' '']\n",
      " ['1950' 'Fujiwara' 'Red King Crab Flavour Ramen' 'Pack' 'Japan' '4' '']\n",
      " ['1868' 'Marutai' 'Kuroma-yu Tonkotsu Kumamoto Ramen' 'Bowl' 'Japan' '4'\n",
      "  '']\n",
      " ['1831' 'Kuriki' 'Plum Mayo Ramen' 'Pack' 'Japan' '4' '']\n",
      " ['1815' 'Nakaya Shouten' 'Hingya no Shio Ramen' 'Pack' 'Japan' '4' '']]\n"
     ]
    }
   ],
   "source": [
    "r4_and_j = ramen_ratings[(comparison_vector(ramen_ratings,\"4\",5)) & (comparison_vector(ramen_ratings,\"Japan\",4))]\n",
    "print(r4_and_j)"
   ]
  },
  {
   "cell_type": "code",
   "execution_count": 72,
   "metadata": {},
   "outputs": [
    {
     "name": "stdout",
     "output_type": "stream",
     "text": [
      "[2750. 2749. 2740. ... 1753. 1752. 1751.]\n"
     ]
    }
   ],
   "source": [
    "review_number = ramen_ratings[:,0]\n",
    "review_number = review_number.astype(float)\n",
    "print(review_number)"
   ]
  },
  {
   "cell_type": "code",
   "execution_count": null,
   "metadata": {},
   "outputs": [],
   "source": []
  }
 ],
 "metadata": {
  "kernelspec": {
   "display_name": "Python 3",
   "language": "python",
   "name": "python3"
  },
  "language_info": {
   "codemirror_mode": {
    "name": "ipython",
    "version": 3
   },
   "file_extension": ".py",
   "mimetype": "text/x-python",
   "name": "python",
   "nbconvert_exporter": "python",
   "pygments_lexer": "ipython3",
   "version": "3.6.4"
  }
 },
 "nbformat": 4,
 "nbformat_minor": 2
}
