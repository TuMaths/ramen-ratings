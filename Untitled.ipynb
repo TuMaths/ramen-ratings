{
 "cells": [
  {
   "cell_type": "code",
   "execution_count": 10,
   "metadata": {},
   "outputs": [
    {
     "name": "stdout",
     "output_type": "stream",
     "text": [
      "[[2750.       nan     nan ...     nan    5.       nan]\n",
      " [2749.       nan     nan ...     nan    0.       nan]\n",
      " [2740.       nan     nan ...     nan    3.75     nan]\n",
      " ...\n",
      " [1753.       nan     nan ...     nan    3.5      nan]\n",
      " [1752.       nan     nan ...     nan    4.75     nan]\n",
      " [1751.       nan     nan ...     nan    5.       nan]]\n"
     ]
    }
   ],
   "source": [
    "import numpy as np\n",
    "data = np.genfromtxt(\"ramen-ratings.csv\", encoding = 'utf-8', skip_header = 1, delimiter = \",\")\n",
    "ramen_ratings = np.array(data)\n",
    "print(ramen_ratings)"
   ]
  },
  {
   "cell_type": "code",
   "execution_count": null,
   "metadata": {},
   "outputs": [],
   "source": [
    "def country_ratings(input_array):\n",
    "    ratings_by_country = {}\n",
    "    for line in input_array:\n",
    "        "
   ]
  },
  {
   "cell_type": "code",
   "execution_count": null,
   "metadata": {},
   "outputs": [],
   "source": []
  }
 ],
 "metadata": {
  "kernelspec": {
   "display_name": "Python 3",
   "language": "python",
   "name": "python3"
  },
  "language_info": {
   "codemirror_mode": {
    "name": "ipython",
    "version": 3
   },
   "file_extension": ".py",
   "mimetype": "text/x-python",
   "name": "python",
   "nbconvert_exporter": "python",
   "pygments_lexer": "ipython3",
   "version": "3.6.4"
  }
 },
 "nbformat": 4,
 "nbformat_minor": 2
}
